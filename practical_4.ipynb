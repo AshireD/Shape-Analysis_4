{
 "cells": [
  {
   "attachments": {},
   "cell_type": "markdown",
   "id": "c65b7c1c",
   "metadata": {},
   "source": [
    "Before you turn this problem in, make sure everything runs as expected. First, **restart the kernel** (in the menubar, select Kernel$\\rightarrow$Restart) and then **run all cells** (in the menubar, select Cell$\\rightarrow$Run All).\n",
    "\n",
    "Make sure you fill in any place that says `YOUR CODE HERE` or \"YOUR ANSWER HERE\", as well as your name and collaborators below:"
   ]
  },
  {
   "cell_type": "code",
   "execution_count": 1,
   "id": "5876c540",
   "metadata": {},
   "outputs": [],
   "source": [
    "NAME = \"\"\n",
    "COLLABORATORS = \"\""
   ]
  },
  {
   "attachments": {},
   "cell_type": "markdown",
   "id": "55c97c26",
   "metadata": {},
   "source": [
    "---"
   ]
  },
  {
   "attachments": {},
   "cell_type": "markdown",
   "id": "4495c409",
   "metadata": {
    "nbgrader": {
     "grade": false,
     "grade_id": "cell-0ececd7728c75384",
     "locked": true,
     "schema_version": 3,
     "solution": false,
     "task": false
    }
   },
   "source": [
    "# Distance Measures\n",
    "In this notebook we will implement the approximate computation of geodesic distances via the heat method. We will also compute the Chamfer distance between two point clouds."
   ]
  },
  {
   "cell_type": "code",
   "execution_count": 2,
   "id": "da0453c0",
   "metadata": {
    "nbgrader": {
     "grade": false,
     "grade_id": "cell-8bb5441f4c9cd42a",
     "locked": true,
     "schema_version": 3,
     "solution": false,
     "task": false
    }
   },
   "outputs": [
    {
     "ename": "ModuleNotFoundError",
     "evalue": "No module named 'k3d'",
     "output_type": "error",
     "traceback": [
      "\u001b[1;31m---------------------------------------------------------------------------\u001b[0m",
      "\u001b[1;31mModuleNotFoundError\u001b[0m                       Traceback (most recent call last)",
      "Cell \u001b[1;32mIn[2], line 8\u001b[0m\n\u001b[0;32m      6\u001b[0m \u001b[38;5;28;01mfrom\u001b[39;00m \u001b[38;5;21;01mscipy\u001b[39;00m\u001b[38;5;21;01m.\u001b[39;00m\u001b[38;5;21;01mspatial\u001b[39;00m\u001b[38;5;21;01m.\u001b[39;00m\u001b[38;5;21;01mdistance\u001b[39;00m \u001b[38;5;28;01mimport\u001b[39;00m cdist\n\u001b[0;32m      7\u001b[0m \u001b[38;5;28;01mimport\u001b[39;00m \u001b[38;5;21;01mopenmesh\u001b[39;00m \u001b[38;5;28;01mas\u001b[39;00m \u001b[38;5;21;01mom\u001b[39;00m\n\u001b[1;32m----> 8\u001b[0m \u001b[38;5;28;01mimport\u001b[39;00m \u001b[38;5;21;01mk3d\u001b[39;00m\n",
      "\u001b[1;31mModuleNotFoundError\u001b[0m: No module named 'k3d'"
     ]
    }
   ],
   "source": [
    "from ipywidgets import interact, fixed\n",
    "import numpy as np\n",
    "import scipy as sp\n",
    "from scipy.sparse import csr_matrix, diags\n",
    "from scipy.sparse.linalg import spsolve, lsqr\n",
    "from scipy.spatial.distance import cdist\n",
    "import openmesh as om\n",
    "import k3d"
   ]
  },
  {
   "cell_type": "code",
   "execution_count": 3,
   "id": "23703362",
   "metadata": {
    "nbgrader": {
     "grade": false,
     "grade_id": "cell-4582ab398036dc5d",
     "locked": true,
     "schema_version": 3,
     "solution": false,
     "task": false
    }
   },
   "outputs": [],
   "source": [
    "mesh = om.read_trimesh(\"spot.obj\")\n",
    "bob_mesh = om.read_trimesh(\"bob.obj\")\n",
    "A = sp.sparse.load_npz(\"A.npz\")\n",
    "W = -sp.sparse.load_npz(\"W.npz\")"
   ]
  },
  {
   "attachments": {},
   "cell_type": "markdown",
   "id": "ae62b3fb",
   "metadata": {
    "nbgrader": {
     "grade": false,
     "grade_id": "cell-362c36783ffd8409",
     "locked": true,
     "schema_version": 3,
     "solution": false,
     "task": false
    }
   },
   "source": [
    "## Heat Method\n",
    "For the heat method you will have to compute the heat distribution. Then you have to derive gradients for this distribution on the triangle mesh and then solve a Poisson equation to compute a geodesic distance field.\n",
    "\n",
    "In order to compute the heat distribution with `compute_heat_distribution` you will need the (uninverted) mass matrix `A` and the weak Laplacian Beltrami Operator `W` for the spot mesh (stored in `mesh`). We have precomputed and loaded those matrices for you above. Furthermore, we require a time parameter `t` (in our case `t=1`) and an intial heat distribution for each vertex of the mesh. Here we apply heat to a single point (the vertex with id 1570) for which we want to compute the geodesic distance field. Since `A` and `W` are sparse matrices use `spsolve` to solve the linear equation system. The result should be a numpy array with one axis with scalar values for every vertex of the mesh. The heat distribution should then look like [this](./heat_distribution.html) (both the intial heat distribution and the one at time step `t` are shown).\n",
    "\n",
    "Next, we need to compute the gradient of the heat distribution on our mesh with `compute_gradient_on_trimesh`. Here `mesh` is the spot mesh and `u` the heat distribution we computed above (per vertex). The result should be a 3D gradient vector per triangle (again as a numpy array). You can use the `compute_triangle_area` and `compute_normal` helper functions per triangle (`a`, `b`, and `c` are the 3 3D points of the triangle). In order to iterate over the vertices of each face you can either use `mesh.fv(fh)` for a particular face handle `fh` or get all face vertex indices with `mesh.fv_indices()` as a numpy array. Afterwards you will have to transform the gradient to a vector field that matches the gradient of a distance field with `compute_gradient_of_distance_field`. This function takes as input a numpy array with 3D gradients per triangle face and returns a vector field as a numpy array with 3D vectors per face. If you implemented everything correctly the resulting vector field should look like [this](./gradient_field.html).\n",
    "\n",
    "Now that we have the gradient field for our distance field, we need to recover the distance field in question. To this end we have to compute the divergence of that gradient field in order to setup and solve a Poisson equation. Implement the computation of the divergence with `compute_divergence_on_trimesh` that takes as as input the spot mesh `mesh` and the vector field computed above with `compute_gradient_of_distance_field` as `vec`. It returns a numpy array with a scalar per vertex. You can use `mesh.vertices()` to iterate over all vertices of the mesh. Use `mesh.voh(vh)` to iterate over all outgoing halfedges for a vertex handle `vh`. You can get the corresponding (unique) face handle for a halfedge handle `hh` with `mesh.face_handle(hh)`. To jump to the next halfedge handle from a halfedge handle `hh` in a face use `mesh.next_halfedge_handle(hh)`. The vertex handle that a halfedge `hh` points to can be looked up with `mesh.to_vertex_handle(hh)`. The cotanget for two vectors $v_1$ and $v_2$ can be computed as $\\frac{v_1^Tv_2}{||v_1 \\times v_2||}$. If you implemented everything correctly your divergence should look like [this](./divergence.html). You can now setup and solve the Poisson equation in `compute_distance_field` that takes as input the weak Laplace Beltrami Operator and the divergence field. It returns the distance field (a numpy array with scalars per vertex). Use `lsqr` to solve the Poisson equation since it is over-determined. Your solution should look like [this](./distance_field.html).\n",
    "Note that the distance field can have negative values, as the solution of the Poisson equation is invariant to a constant offset."
   ]
  },
  {
   "cell_type": "code",
   "execution_count": 4,
   "id": "9b2679b0",
   "metadata": {
    "nbgrader": {
     "grade": false,
     "grade_id": "cell-0bdcb31cded6ad87",
     "locked": false,
     "schema_version": 3,
     "solution": true,
     "task": false
    }
   },
   "outputs": [],
   "source": [
    "def compute_triangle_area(a, b, c):\n",
    "    return np.linalg.norm(np.cross(b-a, c-a))/2\n",
    "\n",
    "def compute_normal(a, b, c):\n",
    "    n = np.cross(b-a, c-a)\n",
    "    n /= np.linalg.norm(n)\n",
    "    return n\n",
    "\n",
    "def compute_gradient_on_trimesh(mesh, u):\n",
    "    ### YOUR CODE HERE\n",
    "    n = mesh.n_faces()\n",
    "    res = np.zeros((n,3))\n",
    "    \n",
    "    for face in mesh.faces():\n",
    "        verticesOfFace = list(mesh.fv(face))\n",
    "        p_0 = mesh.point(verticesOfFace[0])\n",
    "        p_1 = mesh.point(verticesOfFace[1])\n",
    "        p_2 = mesh.point(verticesOfFace[2])\n",
    "        A_f = compute_triangle_area(p_0, p_1, p_2)\n",
    "        N = compute_normal(p_0, p_1, p_2)\n",
    "\n",
    "        N_cross_e_0 = np.cross(N, (p_2 - p_1))\n",
    "        N_cross_e_1 = np.cross(N, (p_0 - p_2))\n",
    "        N_cross_e_2 = np.cross(N, (p_1 - p_0))\n",
    "#         print(N_cross_e_0) \n",
    "        U_array = np.array([u[verticesOfFace[0].idx()], u[verticesOfFace[1].idx()], u[verticesOfFace[2].idx()]])\n",
    "#         print(U_array.shape) \n",
    "        Ne_array = np.array([N_cross_e_0, N_cross_e_1, N_cross_e_2])\n",
    "#         print((1 / (2 * A_f)) * np.dot(U_array, Ne_array)) \n",
    "        res[face.idx(), :] = (1 / (2 * A_f)) * np.dot(U_array, Ne_array)\n",
    "\n",
    "#     print(res.shape)    \n",
    "    return res\n",
    "        \n",
    "def compute_divergence_on_trimesh(mesh, vec):\n",
    "    ### YOUR CODE HERE\n",
    "    n = mesh.n_vertices()\n",
    "    res = np.zeros(n)\n",
    "    triangleAreas = [0] * len(mesh.faces())\n",
    "#     A = [0] * len(mesh.vertices())\n",
    "    \n",
    "    for face in mesh.faces():\n",
    "        verticesOfFace = list(mesh.fv(face))\n",
    "        triangleAreas[face.idx()] = compute_triangle_area(mesh.point(verticesOfFace[0]), mesh.point(verticesOfFace[1]), mesh.point(verticesOfFace[2]))\n",
    "    \n",
    "    for vertex in mesh.vertices():\n",
    "        area = 0\n",
    "        cot = 0\n",
    "        p_i = mesh.point(vertex)\n",
    "        for face in mesh.vf(vertex):        \n",
    "            p_1 = None\n",
    "            p_2 = None\n",
    "            for faceVertex in mesh.fv(face):\n",
    "                if(vertex.idx() == faceVertex.idx()):\n",
    "                    continue\n",
    "                if(p_1 is None):\n",
    "                    p_1 = mesh.point(faceVertex)\n",
    "                else:\n",
    "                    p_2 = mesh.point(faceVertex)\n",
    "                \n",
    "            cot_theta1 = np.dot(p_2-p_1, p_i-p_1) / np.linalg.norm(np.cross(p_2-p_1, p_i-p_1))\n",
    "            cot_theta2 = np.dot(p_1-p_2, p_i-p_2) / np.linalg.norm(np.cross(p_1-p_2, p_i-p_2))\n",
    "            cot += cot_theta1 * np.dot(p_2-p_i, vec[face.idx(), :]) + cot_theta2 * np.dot(p_1-p_i, vec[face.idx(), :])\n",
    "            area += triangleAreas[face.idx()]\n",
    "            \n",
    "        A_i = area / 3\n",
    "        res[vertex.idx()] = (1 / (2)) * cot\n",
    "        \n",
    "    return res\n",
    "    \n",
    "def compute_heat_distribution(A, W, t, init_heat):\n",
    "    ### YOUR CODE HERE\n",
    "    return spsolve(A - t * W, A.dot(init_heat))\n",
    "\n",
    "def compute_gradient_of_distance_field(grads):\n",
    "    ### YOUR CODE HERE\n",
    "    return - grads / np.linalg.norm(grads, axis=1, keepdims=True)\n",
    "\n",
    "def compute_distance_field(W, div):\n",
    "    ### YOUR CODE HERE\n",
    "    res, istop, itn, r1norm = lsqr(W, div)[:4]\n",
    "    return res"
   ]
  },
  {
   "cell_type": "code",
   "execution_count": 5,
   "id": "185b2f98",
   "metadata": {
    "nbgrader": {
     "grade": true,
     "grade_id": "cell-f8709265f219aab5",
     "locked": true,
     "points": 1,
     "schema_version": 3,
     "solution": false,
     "task": false
    }
   },
   "outputs": [],
   "source": [
    "init_u = np.zeros(mesh.n_vertices())\n",
    "init_u[1570] = 1.\n",
    "t = 1\n",
    "u_t = compute_heat_distribution(A, W, t, init_u)\n",
    "np.testing.assert_approx_equal(u_t[0], 0.00012, significant=2)\n",
    "np.testing.assert_approx_equal(u_t[1000], 0.00017, significant=2)\n",
    "np.testing.assert_approx_equal(u_t[-1], 0.000093, significant=2)"
   ]
  },
  {
   "cell_type": "code",
   "execution_count": 6,
   "id": "e5c8dd36",
   "metadata": {
    "nbgrader": {
     "grade": false,
     "grade_id": "cell-8fb828dc93519fe9",
     "locked": true,
     "schema_version": 3,
     "solution": false,
     "task": false
    },
    "scrolled": false
   },
   "outputs": [
    {
     "ename": "NameError",
     "evalue": "name 'k3d' is not defined",
     "output_type": "error",
     "traceback": [
      "\u001b[1;31m---------------------------------------------------------------------------\u001b[0m",
      "\u001b[1;31mNameError\u001b[0m                                 Traceback (most recent call last)",
      "Cell \u001b[1;32mIn[6], line 1\u001b[0m\n\u001b[1;32m----> 1\u001b[0m plot \u001b[38;5;241m=\u001b[39m \u001b[43mk3d\u001b[49m\u001b[38;5;241m.\u001b[39mplot()\n\u001b[0;32m      2\u001b[0m plot \u001b[38;5;241m+\u001b[39m\u001b[38;5;241m=\u001b[39m k3d\u001b[38;5;241m.\u001b[39mmesh(mesh\u001b[38;5;241m.\u001b[39mpoints(), mesh\u001b[38;5;241m.\u001b[39mfv_indices(), attribute\u001b[38;5;241m=\u001b[39minit_u, color_map\u001b[38;5;241m=\u001b[39mk3d\u001b[38;5;241m.\u001b[39mmatplotlib_color_maps\u001b[38;5;241m.\u001b[39mviridis)\n\u001b[0;32m      3\u001b[0m plot \u001b[38;5;241m+\u001b[39m\u001b[38;5;241m=\u001b[39m k3d\u001b[38;5;241m.\u001b[39mmesh(mesh\u001b[38;5;241m.\u001b[39mpoints() \u001b[38;5;241m+\u001b[39m np\u001b[38;5;241m.\u001b[39marray([\u001b[38;5;241m-\u001b[39m\u001b[38;5;241m1.\u001b[39m,\u001b[38;5;241m0\u001b[39m,\u001b[38;5;241m0\u001b[39m]), mesh\u001b[38;5;241m.\u001b[39mfv_indices(), attribute\u001b[38;5;241m=\u001b[39mu_t, color_map\u001b[38;5;241m=\u001b[39mk3d\u001b[38;5;241m.\u001b[39mmatplotlib_color_maps\u001b[38;5;241m.\u001b[39mviridis)\n",
      "\u001b[1;31mNameError\u001b[0m: name 'k3d' is not defined"
     ]
    }
   ],
   "source": [
    "plot = k3d.plot()\n",
    "plot += k3d.mesh(mesh.points(), mesh.fv_indices(), attribute=init_u, color_map=k3d.matplotlib_color_maps.viridis)\n",
    "plot += k3d.mesh(mesh.points() + np.array([-1.,0,0]), mesh.fv_indices(), attribute=u_t, color_map=k3d.matplotlib_color_maps.viridis)\n",
    "plot"
   ]
  },
  {
   "cell_type": "code",
   "execution_count": 7,
   "id": "6ca2bacc",
   "metadata": {
    "nbgrader": {
     "grade": true,
     "grade_id": "cell-6f1953985c72acec",
     "locked": true,
     "points": 1,
     "schema_version": 3,
     "solution": false,
     "task": false
    }
   },
   "outputs": [
    {
     "name": "stdout",
     "output_type": "stream",
     "text": [
      "(5856, 3)\n",
      "(5856, 3)\n"
     ]
    }
   ],
   "source": [
    "u_t_grad = compute_gradient_on_trimesh(mesh, u_t)\n",
    "print(u_t_grad.shape)\n",
    "X = compute_gradient_of_distance_field(u_t_grad)\n",
    "print(X.shape)\n",
    "np.testing.assert_approx_equal(X[0,0], -0.59, significant=2)\n",
    "np.testing.assert_approx_equal(X[0,1], -0.38, significant=2)\n",
    "np.testing.assert_approx_equal(X[0,2], 0.71, significant=2)\n",
    "np.testing.assert_approx_equal(X[-1,0], 0.06, significant=2)\n",
    "np.testing.assert_approx_equal(X[-1,1], -0.89, significant=2)\n",
    "np.testing.assert_approx_equal(X[-1,2], -0.46, significant=2)\n",
    "np.testing.assert_approx_equal(X[1000,0], -0.96, significant=2)\n",
    "np.testing.assert_approx_equal(X[1000,1], -0.23, significant=2)\n",
    "np.testing.assert_approx_equal(X[1000,2], -0.19, significant=2)"
   ]
  },
  {
   "cell_type": "code",
   "execution_count": 8,
   "id": "f5a91839",
   "metadata": {
    "nbgrader": {
     "grade": false,
     "grade_id": "cell-10d71bc1f7e57db0",
     "locked": true,
     "schema_version": 3,
     "solution": false,
     "task": false
    },
    "scrolled": true
   },
   "outputs": [
    {
     "ename": "NameError",
     "evalue": "name 'k3d' is not defined",
     "output_type": "error",
     "traceback": [
      "\u001b[1;31m---------------------------------------------------------------------------\u001b[0m",
      "\u001b[1;31mNameError\u001b[0m                                 Traceback (most recent call last)",
      "Cell \u001b[1;32mIn[8], line 1\u001b[0m\n\u001b[1;32m----> 1\u001b[0m plot \u001b[38;5;241m=\u001b[39m \u001b[43mk3d\u001b[49m\u001b[38;5;241m.\u001b[39mplot()\n\u001b[0;32m      2\u001b[0m plot \u001b[38;5;241m+\u001b[39m\u001b[38;5;241m=\u001b[39m k3d\u001b[38;5;241m.\u001b[39mmesh(mesh\u001b[38;5;241m.\u001b[39mpoints(), mesh\u001b[38;5;241m.\u001b[39mfv_indices(), attribute\u001b[38;5;241m=\u001b[39mu_t, color_map\u001b[38;5;241m=\u001b[39mk3d\u001b[38;5;241m.\u001b[39mmatplotlib_color_maps\u001b[38;5;241m.\u001b[39mviridis)\n\u001b[0;32m      3\u001b[0m plot \u001b[38;5;241m+\u001b[39m\u001b[38;5;241m=\u001b[39m k3d\u001b[38;5;241m.\u001b[39mvectors(mesh\u001b[38;5;241m.\u001b[39mpoints()[mesh\u001b[38;5;241m.\u001b[39mfv_indices()]\u001b[38;5;241m.\u001b[39mmean(\u001b[38;5;241m1\u001b[39m), X\u001b[38;5;241m*\u001b[39m\u001b[38;5;241m0.05\u001b[39m, use_head\u001b[38;5;241m=\u001b[39m\u001b[38;5;28;01mFalse\u001b[39;00m)\n",
      "\u001b[1;31mNameError\u001b[0m: name 'k3d' is not defined"
     ]
    }
   ],
   "source": [
    "plot = k3d.plot()\n",
    "plot += k3d.mesh(mesh.points(), mesh.fv_indices(), attribute=u_t, color_map=k3d.matplotlib_color_maps.viridis)\n",
    "plot += k3d.vectors(mesh.points()[mesh.fv_indices()].mean(1), X*0.05, use_head=False)\n",
    "plot"
   ]
  },
  {
   "cell_type": "code",
   "execution_count": 12,
   "id": "afd42ed6",
   "metadata": {
    "nbgrader": {
     "grade": true,
     "grade_id": "cell-f904cbb4f55213b1",
     "locked": true,
     "points": 1,
     "schema_version": 3,
     "solution": false,
     "task": false
    }
   },
   "outputs": [
    {
     "name": "stdout",
     "output_type": "stream",
     "text": [
      "<class 'numpy.ndarray'>\n",
      "(2930,)\n",
      "<class 'numpy.ndarray'>\n"
     ]
    }
   ],
   "source": [
    "div = compute_divergence_on_trimesh(mesh, X)\n",
    "print(type(div))\n",
    "print(div.shape)\n",
    "phi = compute_distance_field(W, div)\n",
    "print(type(phi))\n",
    "phi -= phi.min() # solution is not unique up to constant factor. Therefore set minimum to zero\n",
    "np.testing.assert_approx_equal(div[0], 0.0096, significant=2)\n",
    "np.testing.assert_approx_equal(div[1000], 0.0056, significant=2)\n",
    "np.testing.assert_approx_equal(phi[0], 1.41, significant=2)\n",
    "np.testing.assert_approx_equal(phi[1000], 1.09, significant=2)"
   ]
  },
  {
   "cell_type": "code",
   "execution_count": 9,
   "id": "a3335ca1",
   "metadata": {
    "nbgrader": {
     "grade": false,
     "grade_id": "cell-361d2c9039afd1f8",
     "locked": true,
     "schema_version": 3,
     "solution": false,
     "task": false
    }
   },
   "outputs": [
    {
     "ename": "NameError",
     "evalue": "name 'k3d' is not defined",
     "output_type": "error",
     "traceback": [
      "\u001b[1;31m---------------------------------------------------------------------------\u001b[0m",
      "\u001b[1;31mNameError\u001b[0m                                 Traceback (most recent call last)",
      "Cell \u001b[1;32mIn[9], line 1\u001b[0m\n\u001b[1;32m----> 1\u001b[0m \u001b[43mk3d\u001b[49m\u001b[38;5;241m.\u001b[39mmesh(mesh\u001b[38;5;241m.\u001b[39mpoints(), mesh\u001b[38;5;241m.\u001b[39mfv_indices(), attribute\u001b[38;5;241m=\u001b[39mdiv, color_map\u001b[38;5;241m=\u001b[39mk3d\u001b[38;5;241m.\u001b[39mmatplotlib_color_maps\u001b[38;5;241m.\u001b[39mviridis)\n",
      "\u001b[1;31mNameError\u001b[0m: name 'k3d' is not defined"
     ]
    }
   ],
   "source": [
    "k3d.mesh(mesh.points(), mesh.fv_indices(), attribute=div, color_map=k3d.matplotlib_color_maps.viridis)"
   ]
  },
  {
   "cell_type": "code",
   "execution_count": 10,
   "id": "838b2bc4",
   "metadata": {
    "nbgrader": {
     "grade": false,
     "grade_id": "cell-b9c65e9f3936334e",
     "locked": true,
     "schema_version": 3,
     "solution": false,
     "task": false
    }
   },
   "outputs": [
    {
     "ename": "NameError",
     "evalue": "name 'k3d' is not defined",
     "output_type": "error",
     "traceback": [
      "\u001b[1;31m---------------------------------------------------------------------------\u001b[0m",
      "\u001b[1;31mNameError\u001b[0m                                 Traceback (most recent call last)",
      "Cell \u001b[1;32mIn[10], line 1\u001b[0m\n\u001b[1;32m----> 1\u001b[0m \u001b[43mk3d\u001b[49m\u001b[38;5;241m.\u001b[39mmesh(mesh\u001b[38;5;241m.\u001b[39mpoints(), mesh\u001b[38;5;241m.\u001b[39mfv_indices(), attribute\u001b[38;5;241m=\u001b[39mphi, color_map\u001b[38;5;241m=\u001b[39mk3d\u001b[38;5;241m.\u001b[39mmatplotlib_color_maps\u001b[38;5;241m.\u001b[39mcoolwarm)\n",
      "\u001b[1;31mNameError\u001b[0m: name 'k3d' is not defined"
     ]
    }
   ],
   "source": [
    "k3d.mesh(mesh.points(), mesh.fv_indices(), attribute=phi, color_map=k3d.matplotlib_color_maps.coolwarm)"
   ]
  },
  {
   "cell_type": "code",
   "execution_count": 11,
   "id": "9895c414",
   "metadata": {
    "nbgrader": {
     "grade": false,
     "grade_id": "cell-b1b243f46b2cda03",
     "locked": true,
     "schema_version": 3,
     "solution": false,
     "task": false
    }
   },
   "outputs": [
    {
     "name": "stderr",
     "output_type": "stream",
     "text": [
      "C:\\Users\\my\\anaconda3\\envs\\shape_analysis\\lib\\site-packages\\traitlets\\traitlets.py:711: SparseEfficiencyWarning: Comparing sparse matrices using == is inefficient, try using != instead.\n",
      "  silent = bool(old_value == new_value)\n",
      "C:\\Users\\my\\anaconda3\\envs\\shape_analysis\\lib\\site-packages\\traitlets\\traitlets.py:1738: SparseEfficiencyWarning: Comparing sparse matrices using == is inefficient, try using != instead.\n",
      "  getattr(cls, name).set(self, value)\n"
     ]
    },
    {
     "data": {
      "application/vnd.jupyter.widget-view+json": {
       "model_id": "f44a205e53b545f598555ffc6686db3a",
       "version_major": 2,
       "version_minor": 0
      },
      "text/plain": [
       "interactive(children=(Dropdown(description='vertex', options=(0, 1, 2, 3, 4, 5, 6, 7, 8, 9, 10, 11, 12, 13, 14…"
      ]
     },
     "metadata": {},
     "output_type": "display_data"
    },
    {
     "data": {
      "text/plain": [
       "<function __main__.plot_geodesics_heat(A, W, vertex)>"
      ]
     },
     "execution_count": 11,
     "metadata": {},
     "output_type": "execute_result"
    }
   ],
   "source": [
    "def plot_geodesics_heat(A,W,vertex):\n",
    "    init_u = np.zeros(mesh.n_vertices())\n",
    "    init_u[vertex] = 1.\n",
    "    plot = k3d.plot()\n",
    "    u_t = compute_heat_distribution(A, W, 1, init_u)\n",
    "    u_t_grad = compute_gradient_on_trimesh(mesh, u_t)\n",
    "    X = compute_gradient_of_distance_field(u_t_grad)\n",
    "    div = compute_divergence_on_trimesh(mesh, X)\n",
    "    phi = compute_distance_field(W, div)\n",
    "    plot += k3d.mesh(mesh.points(), mesh.fv_indices(), attribute=phi, color_map=k3d.matplotlib_color_maps.coolwarm)\n",
    "    plot.display()\n",
    "\n",
    "interact(plot_geodesics_heat,\n",
    "         A = fixed(A),\n",
    "         W = fixed(W),\n",
    "         vertex = range(mesh.n_vertices()),\n",
    "         continous_update=False)"
   ]
  },
  {
   "attachments": {},
   "cell_type": "markdown",
   "id": "e626a236",
   "metadata": {
    "nbgrader": {
     "grade": false,
     "grade_id": "cell-bb779079bb90d5cb",
     "locked": true,
     "schema_version": 3,
     "solution": false,
     "task": false
    }
   },
   "source": [
    "## Chamfer Distance\n",
    "Compute the Chamfer distance with `chamfer_distance` for the two point clouds below. You can use `cdist` to compute the pairwise (Euclidean) distance matrix between the two point clouds."
   ]
  },
  {
   "cell_type": "code",
   "execution_count": null,
   "id": "0e83098a",
   "metadata": {
    "nbgrader": {
     "grade": false,
     "grade_id": "cell-cc1dc441a9169b3b",
     "locked": true,
     "schema_version": 3,
     "solution": false,
     "task": false
    }
   },
   "outputs": [],
   "source": [
    "plot = k3d.plot()\n",
    "plot += k3d.points(mesh.points(), point_size=0.02, color=0x0000ff)\n",
    "plot += k3d.points(bob_mesh.points(), point_size=0.02, color=0xff0000)\n",
    "plot"
   ]
  },
  {
   "cell_type": "code",
   "execution_count": 13,
   "id": "d57d3568",
   "metadata": {
    "nbgrader": {
     "grade": false,
     "grade_id": "cell-65959c4431b7ce3c",
     "locked": false,
     "schema_version": 3,
     "solution": true,
     "task": false
    }
   },
   "outputs": [],
   "source": [
    "def chamfer_distance(pts_A, pts_B):\n",
    "    ### YOUR CODE HERE\n",
    "    distances = cdist(pts_A, pts_B)\n",
    "\n",
    "    max_col = np.amin(distances, axis = 0)\n",
    "    max_row = np.amin(distances, axis = 1)\n",
    "\n",
    "    return (1.0 / len(pts_A)) * np.sum(max_row) + (1.0 / len(pts_B)) * np.sum(max_col)"
   ]
  },
  {
   "cell_type": "code",
   "execution_count": 14,
   "id": "93b3c3a8",
   "metadata": {
    "nbgrader": {
     "grade": true,
     "grade_id": "cell-670e5e2c5f459188",
     "locked": true,
     "points": 1,
     "schema_version": 3,
     "solution": false,
     "task": false
    }
   },
   "outputs": [],
   "source": [
    "pts_A = mesh.points()\n",
    "pts_B = bob_mesh.points()\n",
    "d = chamfer_distance(pts_A, pts_B)\n",
    "np.testing.assert_approx_equal(d, 0.51, significant=2)"
   ]
  },
  {
   "cell_type": "code",
   "execution_count": null,
   "id": "2b89b825",
   "metadata": {},
   "outputs": [],
   "source": []
  }
 ],
 "metadata": {
  "celltoolbar": "Create Assignment",
  "kernelspec": {
   "display_name": "Python 3 (ipykernel)",
   "language": "python",
   "name": "python3"
  },
  "language_info": {
   "codemirror_mode": {
    "name": "ipython",
    "version": 3
   },
   "file_extension": ".py",
   "mimetype": "text/x-python",
   "name": "python",
   "nbconvert_exporter": "python",
   "pygments_lexer": "ipython3",
   "version": "3.9.16"
  }
 },
 "nbformat": 4,
 "nbformat_minor": 5
}
